{
 "cells": [
  {
   "cell_type": "markdown",
   "id": "c9a24780-da2f-4949-a42e-f73de30f4503",
   "metadata": {},
   "source": [
    "# Exploring how Lichess' players spend their playing time\n",
    "\n",
    "*Chess addiction has always been a recurring subject online, and while its formal existence should be left to rigourous studies, it has lead me to wonder more generally about how players spent their time playing on Lichess, which is the topic will delve into today.*\n",
    "\n",
    "The data was aggregated from the January 2023 Lichess rated games (freely available on the [Lichess database](https://database.lichess.org)). Games shorter than 4 plies were filtered out. For each account (which from now on I will consider equivalent to one user), I kept their their username, as well as for each Time Control (TC):\n",
    "*   Number of games\n",
    "*   Average rating\n",
    "*   Approximate time spent (in seconds), which is the total time they spent playing this TC, with each game duration computed from the starting clock and increment, [using the fhe Lichess' formula](https://lichess.org/faq#time-controls) to differenciate between blitz/bullet/etc: (**clock initial time in seconds) + 40 × (clock increment)**.\n",
    "*   Real time spent (in seconds),  which is the total time they spent playing this TC, based on the last time left on the clock at the end of the game, and taking into account increment of course. It does not take into account the use of the `+15s` button, which was considered negligible."
   ]
  },
  {
   "cell_type": "code",
   "execution_count": null,
   "id": "43a7954f-f60d-4224-8861-c00779e33c78",
   "metadata": {},
   "outputs": [],
   "source": [
    "import numpy as np\n",
    "import pandas as pd\n",
    "import matplotlib.pyplot as plt\n",
    "\n",
    "# Define global style of the plt for all graphs\n",
    "plt.style.use(\"dark_background\")\n",
    "plt.rcParams['axes.facecolor'] = \"#262421\" # \"#444445\" # darker is \"#262421\"\n",
    "plt.rcParams[\"figure.facecolor\"] = \"#161612\" #\"#333\" # \"#darker is \"#161612\"\n",
    "plt.rcParams[\"grid.color\"] = \"#fff\"\n",
    "plt.rcParams[\"grid.linestyle\"] = \"-.\"\n",
    "plt.rcParams[\"grid.linewidth\"] = 0.2\n",
    "\n",
    "DFT_HEIGHT = 4.8 # inches\n",
    "DFT_WIDTH = 6.4 # inches\n",
    "\n",
    "perfs = [\"ultrabullet\", \"bullet\", \"blitz\", \"rapid\", \"classical\"]\n",
    "colors = [ \"#1f77b4\",\"#ff7f0e\",\"#2ca02c\",\"#d62728\",\"#9467bd\",\"#8c564b\",\"#e377c2\",\"#7f7f7f\",\"#bcbd22\",\"#17becf\"]\n",
    "COLOR_MAP = { \"ultrabullet\": \"#fdb462\", \"bullet\": \"#81b1d2\", \"blitz\": \"#fa8174\", \"rapid\":\"#b3de69\", \"classical\":\"#bfbbd9\"}"
   ]
  },
  {
   "cell_type": "code",
   "execution_count": null,
   "id": "bff6c775-ec57-447b-ab7e-244c5937fe3f",
   "metadata": {},
   "outputs": [],
   "source": [
    "dtypes = {\"username\": \"string\"}\n",
    "\n",
    "#for perf in perfs:\n",
    "#    dtypes[f\"{perf}_approximate_time\"] = \"Int64\"\n",
    "#    dtypes[f\"{perf}_real_time\"] = \"Int64\"\n",
    "#    dtypes[f\"{perf}_avg_rating\"] = \"Int64\"\n",
    "\n",
    "def restrict_to_perf(perf: str, with_error = True):\n",
    "    l = [\"username\", f\"{perf}_games\", f\"{perf}_avg_rating\",f\"{perf}_approximate_time\", f\"{perf}_real_time\"]\n",
    "    if with_error:\n",
    "        l.append(f\"{perf}_relative_error\")\n",
    "    return l\n",
    "\n",
    "#df = pd.read_csv(\"time-spent.csv\",dtype=dtypes)\n",
    "df = pd.read_csv(\"time-spent-2023-01.csv\",dtype=dtypes)\n",
    "df.dtypes"
   ]
  },
  {
   "cell_type": "code",
   "execution_count": null,
   "id": "e365d234-66be-463b-98f8-282da3963e98",
   "metadata": {},
   "outputs": [],
   "source": [
    "df_time = df.copy()\n",
    "\n",
    "def convert(c):\n",
    "    df_time[c] = df_time[c].apply(lambda x: pd.to_timedelta(x,unit=\"S\"))\n",
    "\n",
    "for perf in perfs:\n",
    "    convert(f\"{perf}_approximate_time\")\n",
    "    convert(f\"{perf}_real_time\")\n",
    "df_time"
   ]
  },
  {
   "cell_type": "markdown",
   "id": "179037c3-3455-42cb-a6fa-ff23af7a4a51",
   "metadata": {},
   "source": [
    "Here is an extract from the data"
   ]
  },
  {
   "cell_type": "code",
   "execution_count": null,
   "id": "a339ef36-55a4-4cc8-bf8c-adcedf7e3788",
   "metadata": {},
   "outputs": [],
   "source": [
    "print(df_time[df_time[\"bullet_games\"] > 2].iloc[:2][restrict_to_perf(\"bullet\",False)].to_markdown())"
   ]
  },
  {
   "cell_type": "markdown",
   "id": "0350b1a5-f604-44ff-a5e5-8cc8c0c85251",
   "metadata": {},
   "source": [
    "|    | username            |   bullet_games |   bullet_avg_rating | bullet_approximate_time   | bullet_real_time   |\n",
    "|---:|:--------------------|---------------:|--------------------:|:--------------------------|:-------------------|\n",
    "|  0 | ange_de_la_mode     |             85 |                1430 | 0 days 01:32:20           | 0 days 02:26:59    |\n",
    "|  5 | Ankit_khandelwal_07 |            214 |                1316 | 0 days 03:39:00           | 0 days 05:33:30    |\n",
    "\n",
    "The total data has ~~2,073,933~~ 2,073,569 (removing bots) distinct users!"
   ]
  },
  {
   "cell_type": "code",
   "execution_count": null,
   "id": "5926e494-0d13-4c0c-99bb-27d3a27a411e",
   "metadata": {},
   "outputs": [],
   "source": [
    "df_time.describe()"
   ]
  },
  {
   "cell_type": "markdown",
   "id": "b53f168b-eed9-499e-90d9-c50c246b1ee3",
   "metadata": {},
   "source": [
    "## Overview\n",
    "\n",
    "A simple first approach is to check how is time played dispatched between the different time controls."
   ]
  },
  {
   "cell_type": "code",
   "execution_count": null,
   "id": "35023cdb-d5d3-4525-be1b-5e71e3f95981",
   "metadata": {},
   "outputs": [],
   "source": [
    "def pie_per_column(df, column: str):\n",
    "    res = []\n",
    "    for p in perfs:\n",
    "        res.append(df[column.format(p)].sum())\n",
    "    return res\n",
    "\n",
    "games = pie_per_column(df,\"{}_games\")\n",
    "approx_time = pie_per_column(df,\"{}_approximate_time\")\n",
    "real_time = pie_per_column(df,\"{}_real_time\")\n",
    "\n",
    "fig, axs = plt.subplots(ncols=3,figsize=(DFT_WIDTH * 2.5, DFT_HEIGHT))\n",
    "axs[0].pie(games,labels=perfs,colors=COLOR_MAP.values(),autopct=\"%d%%\")\n",
    "axs[0].set_title(\"Number of games per Time Control\")\n",
    "axs[1].pie(real_time,labels=perfs,colors=COLOR_MAP.values(),autopct=\"%d%%\")\n",
    "axs[1].set_title(\"Real time played per Time Control\")\n",
    "axs[2].pie(approx_time,labels=perfs,colors=COLOR_MAP.values(),autopct=\"%d%%\")\n",
    "axs[2].set_title(\"Approximate time played per Time Control\")"
   ]
  },
  {
   "cell_type": "markdown",
   "id": "9b10c778-8813-46cb-a254-288a8b6f0862",
   "metadata": {},
   "source": [
    "As expected the number of games alone is not a good appreciation of how much total time is spent playing. We can also see that overhaul, the approximate time formula is quite close to the truth.\n",
    "\n",
    "But how is time spent playing distributed among the players?"
   ]
  },
  {
   "cell_type": "code",
   "execution_count": null,
   "id": "641abce0-3489-4b64-a0c5-9154481dc526",
   "metadata": {},
   "outputs": [],
   "source": [
    "def real_time_box_plot(ax, df, perfs):\n",
    "    data = df[[f\"{x}_real_time\" for x in perfs]]\n",
    "    data_dropna = [values.dropna() for (_, values) in data.items()]\n",
    "    colors = [COLOR_MAP[x] for x in perfs]\n",
    "    bplot = plt.boxplot(data_dropna,patch_artist=True,sym='',labels=perfs,showmeans=True)\n",
    "    for patch, color in zip(bplot['boxes'], colors):\n",
    "        patch.set_facecolor(color)\n",
    "fig = plt.figure(figsize=(DFT_WIDTH * 8 / 5, DFT_WIDTH))\n",
    "ax = fig.add_subplot(1,1,1,)#nrows=1,)\n",
    "datafile = 'user-blog-default.png'\n",
    "img = plt.imread(datafile)\n",
    "real_time_box_plot(ax,df,perfs)\n",
    "print(ax.get_xlim())\n",
    "xl, xh = ax.get_xlim()\n",
    "yl, yh = ax.get_ylim()\n",
    "ax.imshow(img, zorder=0,alpha=0.5,origin=\"upper\",extent=[xl,xh, yl, yh],aspect=\"auto\")\n",
    "ax.set_ylabel(\"real time spent playing (s)\")\n",
    "fig.suptitle(\"Real time spent playing distribution\")\n",
    "fig.set_tight_layout(True) # for the blog post head image"
   ]
  },
  {
   "cell_type": "markdown",
   "id": "008e5ddb-4143-4190-afdd-bd27b84ff82a",
   "metadata": {},
   "source": [
    "This graph shows us than the very important weight of blitz in the overhaul dataset is not merely explained by the fact that they are more players than, let's rapid players, but also because on the average (triangle in the figure) they each spend more time playing it than other TC. \n",
    "Another noteworthy point concerning the mean time spent is that it is quite often higher than the 75 percentile, indicating some very strong outliers which mean in our case super active players."
   ]
  },
  {
   "cell_type": "code",
   "execution_count": null,
   "id": "881a0801-4d5a-467a-920e-c3768d955221",
   "metadata": {},
   "outputs": [],
   "source": [
    "df1 = df[restrict_to_perf(\"bullet\",False)].copy()\n",
    "df1.sort_values(\"bullet_real_time\", ascending=False, inplace=True)\n",
    "df1.iloc[:20]"
   ]
  },
  {
   "cell_type": "markdown",
   "id": "1627f1f4-6fa3-479c-8fa9-ad4f80c7b055",
   "metadata": {},
   "source": [
    "Now that we have a first overview of the time spent by time control, it's interesting to consider how in a specific TC the data is distributed."
   ]
  },
  {
   "cell_type": "code",
   "execution_count": null,
   "id": "fe7bd52a-aca6-4b27-b5e0-9c521f81d64e",
   "metadata": {},
   "outputs": [],
   "source": [
    "fig, axs = plt.subplots(ncols=2,nrows=2,figsize=(DFT_WIDTH * 2, DFT_HEIGHT * 2))\n",
    "axs = axs.flatten()\n",
    "def hist(df, ax, data, color,perf,log: bool):\n",
    "    ax.hist(df[data[\"column\"]].astype(\"float64\"),bins=100,color=color,log=log,label=perf)\n",
    "    ax.set_title(data[\"title\"])\n",
    "\n",
    "def perf_hist(df, axs, perf: str,include_avg=False,log=False):\n",
    "    datas = [{\n",
    "        \"column\": f\"{perf}_games\",\n",
    "        \"title\": \"number of games\",\n",
    "    }]\n",
    "    if include_avg:\n",
    "        datas.append({\n",
    "       \"column\": f\"{perf}_avg_rating\",\n",
    "       \"title\": \"average rating\",\n",
    "        })\n",
    "    datas.extend([\n",
    "    {\n",
    "        \"column\": f\"{perf}_approximate_time\",\n",
    "        \"title\": \"approximate time\",\n",
    "    },{\n",
    "        \"column\": f\"{perf}_real_time\",\n",
    "        \"title\": \"approximate time\",\n",
    "    }])\n",
    "    for (ax, data) in zip(axs, datas):\n",
    "        hist(df,ax,data,COLOR_MAP[perf],perf,log=log)\n",
    "\n",
    "perf_hist(df1, axs, \"bullet\",include_avg=True)\n",
    "fig.suptitle(f\"Bullet distribution by\")"
   ]
  },
  {
   "cell_type": "markdown",
   "id": "7b1d4d2f-3933-41ee-b2fd-056af926b17e",
   "metadata": {},
   "source": [
    "The distribution of number of games, and time seem to follow a tail distribution, while the rating distribution is following the expected the normal law. A big surprise compared to the [online rating distribution](https://lichess.org/stat/rating/distribution/bullet) is the prominence of new players that is represented by the big spike around 1500.\n",
    "\n",
    "Let's see if the tail distribution is shared by the Time Control, and use a **logarithm** y-axis this time."
   ]
  },
  {
   "cell_type": "code",
   "execution_count": null,
   "id": "1c6957ef-9a98-4bd5-8282-343642078c73",
   "metadata": {},
   "outputs": [],
   "source": [
    "fig, axs = plt.subplots(ncols=3,nrows=len(perfs),figsize=(DFT_WIDTH * 2.5, DFT_HEIGHT * len(perfs)))\n",
    "\n",
    "for perf, axs_row in zip(perfs, axs):\n",
    "    perf_hist(df, axs_row,perf,log=True)\n",
    "    axs_row[0].legend()\n",
    "fig.suptitle(f\"Distribution by Time Control of\",y=0.92,size=\"x-large\")"
   ]
  },
  {
   "cell_type": "markdown",
   "id": "fba13ca0-9f83-44f7-a671-01e32c478512",
   "metadata": {},
   "source": [
    "While this overview clearly demonstrate all follow the same law, the lack of common scale make it difficult to compare them."
   ]
  },
  {
   "cell_type": "code",
   "execution_count": null,
   "id": "9cbff0ac-69a0-4128-b431-30a6be6d6dd0",
   "metadata": {},
   "outputs": [],
   "source": [
    "distribs = [np.histogram(df[f\"{perf}_real_time\"].dropna(),bins=10000) for perf in perfs]\n",
    "distrib_plot = []\n",
    "for distrib in distribs:\n",
    "    # we want to compute the average of the bucket\n",
    "    average_x = []\n",
    "    for i in range(0,len(distrib[1]) - 1):\n",
    "        average_x.append((distrib[1][i] + distrib[1][i+1]) / 2)\n",
    "    # remove last value which is still a bucket edge\n",
    "    # now go from y,x to x,y\n",
    "    distrib_plot.append([average_x, distrib[0]])\n",
    "\n",
    "#fig, ax = plt.subplot()\n",
    "for perf, plot_line in zip(perfs, distrib_plot):\n",
    "    plt.loglog(plot_line[0], plot_line[1],color=COLOR_MAP[perf],label=perf)\n",
    "plt.suptitle(\"time spent playing distribution\")\n",
    "plt.ylabel(\"number of players\")\n",
    "plt.xlabel(\"total real time spent playing (s)\")\n",
    "plt.legend()"
   ]
  },
  {
   "cell_type": "markdown",
   "id": "461cf007-8cc2-4a20-8fdc-e52339fe5e9b",
   "metadata": {},
   "source": [
    "TODO: write comment"
   ]
  },
  {
   "cell_type": "code",
   "execution_count": null,
   "id": "9bea3fb9-5507-41ec-a15f-e0df4141fabc",
   "metadata": {},
   "outputs": [],
   "source": [
    "# try to see if by excluding the tail, we can get a more normal-like distrib\n",
    "column = \"bullet_real_time\"\n",
    "df[df[column] < df[column].quantile(0.50)][column].hist(bins=100)\n",
    "# Seems like no, it's a tail-like distrib"
   ]
  },
  {
   "cell_type": "code",
   "execution_count": null,
   "id": "a82cf16b-61aa-4cd8-97d1-b5746dc67564",
   "metadata": {},
   "outputs": [],
   "source": [
    "# Compute the relative error of the real time spent, compared to the average computed one\n",
    "df_avg_error = df.copy()\n",
    "for perf in perfs:\n",
    "    df_avg_error[f\"{perf}_relative_error\"] = (df[f\"{perf}_approximate_time\"] - df[f\"{perf}_real_time\"]).abs() / df[f\"{perf}_real_time\"]\n",
    "\n",
    "# Restricting to blitz to see all columns\n",
    "df_avg_error[restrict_to_perf(\"blitz\")]"
   ]
  },
  {
   "cell_type": "markdown",
   "id": "7cb9db53-675e-4473-97c4-0ebf145666a8",
   "metadata": {},
   "source": [
    "## How accurate is the approximate game duration \n",
    "\n",
    "Let's now look a bit deepe"
   ]
  },
  {
   "cell_type": "code",
   "execution_count": null,
   "id": "531e3d5d-3b48-414f-a6fc-49ddea5529d7",
   "metadata": {},
   "outputs": [],
   "source": [
    "avg_errors = [f\"{p}_relative_error\" for p in perfs]\n",
    "def filter_relative_error(df, perfs):\n",
    "    return [df[df[f\"{c}_relative_error\"] < df[f\"{c}_relative_error\"].quantile(0.99)][f\"{c}_relative_error\"] for c in perfs]\n",
    "\n",
    "def relative_better_boxplot(ax, df, perfs):\n",
    "    data = filter_relative_error(df, perfs)\n",
    "    colors = [COLOR_MAP[x] for x in perfs]\n",
    "    bplot = ax.boxplot(data,patch_artist=True,sym='',labels=perfs)\n",
    "    for patch, color in zip(bplot['boxes'], colors):\n",
    "        patch.set_facecolor(color)\n",
    "\n",
    "    \n",
    "fig, axs = plt.subplots(ncols=2,nrows=1,figsize=(DFT_WIDTH * 1.5, DFT_HEIGHT),gridspec_kw={\"width_ratios\": [4, 1]})\n",
    "relative_better_boxplot(axs[0],df_avg_error,perfs[:-1])\n",
    "y_label = \"absolute relative duration error\"\n",
    "axs[0].set_ylabel(y_label)\n",
    "relative_better_boxplot(axs[1],df_avg_error,perfs[-1:])\n",
    "axs[1].set_ylabel(y_label)\n",
    "fig.suptitle(\"Game duration approximation limitation\")"
   ]
  },
  {
   "cell_type": "markdown",
   "id": "62d2db67-02cd-43c0-bff3-a9084741b0fe",
   "metadata": {},
   "source": [
    "As we can see the approximate game formula used by Lichess is quite accurate for short time controls, but as the starting time on the clock get longer it is more and more inaccurate (classical had to be split into its own subplot to account for the change in scale). It could be because some classical games are blitzed or finish very quickly, sadly no data is available at the game level.\n",
    "\n",
    "Let's see what the non-absolute relative error distribution looks like."
   ]
  },
  {
   "cell_type": "code",
   "execution_count": null,
   "id": "be8f8155-e40c-413a-bf44-7906b5782635",
   "metadata": {},
   "outputs": [],
   "source": [
    "non_abs_rel_error = df.copy()\n",
    "for perf in perfs:\n",
    "    non_abs_rel_error[f\"{perf}_relative_error\"] = (df[f\"{perf}_approximate_time\"] - df[f\"{perf}_real_time\"]) / df[f\"{perf}_real_time\"]\n",
    "\n",
    "\n",
    "fig, axs = plt.subplots(ncols=2,nrows=3,figsize=(DFT_WIDTH * 2, DFT_HEIGHT * 3))\n",
    "axs = axs.flatten()\n",
    "\n",
    "def perf_hist_err(df, ax, perf: str):\n",
    "    col = f\"{perf}_relative_error\"\n",
    "    data = df[ (df[col] < df[col].quantile(0.95)) & (df[col] > df[col].quantile(0.01))][col]\n",
    "    ax.hist(data,bins=100,color=COLOR_MAP[perf],label=perf)\n",
    "    ax.set_xlabel(\"relative error\")\n",
    "    ax.legend()\n",
    "    #ax.set_xlim(left=df[err].quantile(0.1),right=df[err].quantile(0.99))\n",
    "\n",
    "for perf, ax in zip(perfs, axs):\n",
    "    perf_hist_err(non_abs_rel_error, ax,perf)\n",
    "fig.suptitle()"
   ]
  },
  {
   "cell_type": "markdown",
   "id": "12231924-c43b-4544-a7cd-9b59cd36bd87",
   "metadata": {},
   "source": [
    "Interestingly the calculation tends to under-estimate the game duration in short time controls, then start over-estimating it. Note that the outliers have been removed for better visibility. I'm not sure what phenomon create these spikes on the UB (ultrabullet) distribution, but I assume it has to do with the degree of precision we can have from the database which is limited to the second, and since UB games are very short these can add up."
   ]
  },
  {
   "cell_type": "code",
   "execution_count": null,
   "id": "902b7fd1-bfe7-4337-bea2-d3b0670c01c2",
   "metadata": {},
   "outputs": [],
   "source": [
    "df_avg_error[[f\"{p}_relative_error\" for p in perfs]].describe(percentiles=[.5, .75,.90,.95,.99])"
   ]
  },
  {
   "cell_type": "code",
   "execution_count": null,
   "id": "d129a6f1-61e9-4ce7-bc56-761ba24d7dae",
   "metadata": {},
   "outputs": [],
   "source": [
    "# Investing why the max error is so high\n",
    "\n",
    "max_avg_error_first = df_avg_error.sort_values(\"blitz_relative_error\", ascending=False)\n",
    "max_avg_error_first.query(\"blitz_games>=10\")[restrict_to_perf(\"blitz\")][:20]"
   ]
  },
  {
   "cell_type": "code",
   "execution_count": null,
   "id": "d142e054-053f-4324-93d4-1e78fdea60e0",
   "metadata": {},
   "outputs": [],
   "source": [
    "# Only show players with more than x games\n",
    "x = 30\n",
    "for (perf, color) in zip(perfs, colors):\n",
    "    more_x_games = df_avg_error.query(f\"{perf}_games>{x}\").copy()\n",
    "    print(f\"{more_x_games.shape[0]} players with more than {x} {perf} games\")\n",
    "    more_x_games.hist(bins=100,column=f\"{perf}_relative_error\",color=color)"
   ]
  },
  {
   "cell_type": "markdown",
   "id": "603811a3-4f60-443a-93d6-f819b5154769",
   "metadata": {},
   "source": [
    "## Do better players play more?\n",
    "\n",
    "While correlation is nause causality, it is interesting to see if better players play more than the average. Let's have a first approach"
   ]
  },
  {
   "cell_type": "code",
   "execution_count": null,
   "id": "f735a0e9-92f7-4cdb-883d-7f805824a088",
   "metadata": {},
   "outputs": [],
   "source": [
    "# Scatter plot, x rating, y time-spent\n",
    "#for (perf, color) in zip(perfs, COLOR_MAP.values()):\n",
    "#    df.plot.scatter(x=f\"{perf}_avg_rating\",y=f\"{perf}_real_time\",color=color,s=1)\n",
    "\n",
    "def scatter(df, ax, perf):\n",
    "    ax.scatter(x=df[f\"{perf}_avg_rating\"],y=df[f\"{perf}_real_time\"],color=COLOR_MAP[perf],s=1)\n",
    "    ax.set_ylabel(\"real time (s)\")\n",
    "    #ax.set_label(perf)\n",
    "    ax.set_xlabel(\"rating\")\n",
    "\n",
    "fig, axs = plt.subplots(ncols=2,nrows=3,figsize=(DFT_HEIGHT * 4, DFT_WIDTH * 2))\n",
    "axs = axs.flatten()\n",
    "for ax, perf in zip(axs, perfs):\n",
    "    scatter(df, ax, perf)\n",
    "    ax.legend(labels=[perf],markerscale=5,markerfirst=False) # FIXME: couldn't get to make the legend box appear \n",
    "# last one is all combined\n",
    "for perf in perfs:\n",
    "    scatter(df, axs[-1], perf)\n",
    "axs[-1].legend(labels=perfs,markerscale=5,markerfirst=False) # FIXME: couldn't get to make the legend box appear \n",
    "fig.suptitle(\"Real time played per rating\")"
   ]
  },
  {
   "cell_type": "code",
   "execution_count": null,
   "id": "67dfa5c7-8119-442a-9af6-53f681d0097c",
   "metadata": {},
   "outputs": [],
   "source": [
    "# Weighted histogram. Total time per rating\n",
    "fig, axs = plt.subplots(nrows=len(perfs), figsize=(6.4, 4.8 * len(perfs)))\n",
    "for (perf, color, ax) in zip(perfs, colors, axs):\n",
    "    ax.hist(df[f\"{perf}_avg_rating\"],bins=100,color=color,weights=df[f\"{perf}_real_time\"])\n",
    "    ax.set_title(f\"{perf} rating distribution, weighted by time played\")"
   ]
  },
  {
   "cell_type": "code",
   "execution_count": null,
   "id": "b3fde018-072e-4dfb-ab8f-f6c6e55d6c61",
   "metadata": {},
   "outputs": [],
   "source": []
  }
 ],
 "metadata": {
  "kernelspec": {
   "display_name": "Python 3 (ipykernel)",
   "language": "python",
   "name": "python3"
  },
  "language_info": {
   "codemirror_mode": {
    "name": "ipython",
    "version": 3
   },
   "file_extension": ".py",
   "mimetype": "text/x-python",
   "name": "python",
   "nbconvert_exporter": "python",
   "pygments_lexer": "ipython3",
   "version": "3.11.5"
  }
 },
 "nbformat": 4,
 "nbformat_minor": 5
}
