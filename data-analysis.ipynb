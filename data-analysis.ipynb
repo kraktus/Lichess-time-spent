{
 "cells": [
  {
   "cell_type": "markdown",
   "id": "c9a24780-da2f-4949-a42e-f73de30f4503",
   "metadata": {},
   "source": [
    "# Exploring how Lichess' players spend their playing time\n",
    "\n",
    "*Chess addiction has always been a recurring subject online, and while its formal existence should be left to rigourous studies, it has lead me to wonder more generally about how players spent their time playing on Lichess, which is the topic I will delve into today.*\n",
    "\n",
    "The data was aggregated from the January 2023 Lichess rated games (freely available on the [Lichess database website](https://database.lichess.org)). Bots and games shorter than 4 plies were filtered out. For each account (which from now on I will consider equivalent to one user), I kept their their username, as well as for each time control (TC):\n",
    "\n",
    "*   Their number of games\n",
    "*   Their average rating\n",
    "*   The \"Approximate time spent\", which is the total time they spent playing this TC, with each game duration computed from the starting clock and increment, [using Lichess' formula](https://lichess.org/faq#time-controls) to differenciate between blitz/bullet/etc: (**clock initial time in seconds) + 40 × (clock increment)**.\n",
    "*   The \"Real time spent\",  which is the total time they spent playing this TC, based on the time left on the clock at the end of the game, and taking into account increment of course. It does not take into account the use of the `+15s` button, which was considered negligible."
   ]
  },
  {
   "cell_type": "code",
   "execution_count": null,
   "id": "43a7954f-f60d-4224-8861-c00779e33c78",
   "metadata": {},
   "outputs": [],
   "source": [
    "import numpy as np\n",
    "import pandas as pd\n",
    "import matplotlib as mpl\n",
    "import matplotlib.pyplot as plt\n",
    "import statsmodels.api as sm\n",
    "\n",
    "# Define global style of the plt for all graphs\n",
    "# /!\\ Note that using BOTH style is important (in this order)\n",
    "plt.style.use(\"seaborn-v0_8-dark\")\n",
    "plt.style.use(\"dark_background\")\n",
    "plt.rcParams['axes.facecolor'] = \"#444445\" # \"#444445\" # darker is \"#262421\"\n",
    "plt.rcParams[\"figure.facecolor\"] = \"#333\" #\"#333\" # \"#darker is \"#161612\"\n",
    "plt.rcParams[\"grid.color\"] = \"#fff\"\n",
    "plt.rcParams[\"grid.linestyle\"] = \"-.\"\n",
    "plt.rcParams[\"grid.linewidth\"] = 0.2\n",
    "plt.rcParams[\"axes.grid\"] = True\n",
    "\n",
    "DFT_HEIGHT = 4.8 # inches\n",
    "DFT_WIDTH = 6.4 # inches\n",
    "\n",
    "perfs = [\"ultrabullet\", \"bullet\", \"blitz\", \"rapid\", \"classical\"]\n",
    "COLOR_MAP = { \"ultrabullet\": \"#fdb462\", \"bullet\": \"#81b1d2\", \"blitz\": \"#fa8174\", \"rapid\":\"#b3de69\", \"classical\":\"#bfbbd9\"}"
   ]
  },
  {
   "cell_type": "code",
   "execution_count": null,
   "id": "bff6c775-ec57-447b-ab7e-244c5937fe3f",
   "metadata": {},
   "outputs": [],
   "source": [
    "dtypes = {\"username\": \"string\"}\n",
    "\n",
    "#for perf in perfs:\n",
    "#    dtypes[f\"{perf}_approximate_time\"] = \"Int64\"\n",
    "#    dtypes[f\"{perf}_real_time\"] = \"Int64\"\n",
    "#    dtypes[f\"{perf}_avg_rating\"] = \"Int64\"\n",
    "\n",
    "def restrict_to_perf(perf: str, with_error = True):\n",
    "    l = [\"username\", f\"{perf}_games\", f\"{perf}_avg_rating\",f\"{perf}_approximate_time\", f\"{perf}_real_time\"]\n",
    "    if with_error:\n",
    "        l.append(f\"{perf}_relative_error\")\n",
    "    return l\n",
    "\n",
    "#df = pd.read_csv(\"time-spent.csv\",dtype=dtypes)\n",
    "df = pd.read_csv(\"time-spent-2023-01.csv\",dtype=dtypes)\n",
    "#df.dtypes"
   ]
  },
  {
   "cell_type": "code",
   "execution_count": null,
   "id": "e365d234-66be-463b-98f8-282da3963e98",
   "metadata": {},
   "outputs": [],
   "source": [
    "df_time = df.copy()\n",
    "\n",
    "def convert(c):\n",
    "    df_time[c] = df_time[c].apply(lambda x: pd.to_timedelta(x,unit=\"S\"))\n",
    "\n",
    "for perf in perfs:\n",
    "    convert(f\"{perf}_approximate_time\")\n",
    "    convert(f\"{perf}_real_time\")\n",
    "#df_time"
   ]
  },
  {
   "cell_type": "markdown",
   "id": "179037c3-3455-42cb-a6fa-ff23af7a4a51",
   "metadata": {},
   "source": [
    "Here is an extract from the data, restricted to bullet due to layout constraints."
   ]
  },
  {
   "cell_type": "code",
   "execution_count": null,
   "id": "a339ef36-55a4-4cc8-bf8c-adcedf7e3788",
   "metadata": {},
   "outputs": [],
   "source": [
    "table_df = df_time[df_time[\"bullet_games\"] > 2].iloc[:5][restrict_to_perf(\"bullet\",False)]\n",
    "#table_df.rename(columns={c:  c.replace(\"bullet_\",\"\") for c in restrict_to_perf(\"bullet\",False)},\n",
    "#          inplace=True, errors='raise')\n",
    "\n",
    "#print(table_df.to_markdown())"
   ]
  },
  {
   "cell_type": "markdown",
   "id": "0350b1a5-f604-44ff-a5e5-8cc8c0c85251",
   "metadata": {},
   "source": [
    "|    | username            |   games |   avg_rating | approximate_time   | real_time       |\n",
    "|---:|:--------------------|--------:|-------------:|:-------------------|:----------------|\n",
    "|  0 | ange_de_la_mode     |      85 |         1430 | 0 days 01:32:20    | 0 days 02:26:59 |\n",
    "|  5 | Ankit_khandelwal_07 |     214 |         1316 | 0 days 03:39:00    | 0 days 05:33:30 |\n",
    "|  8 | jpn26               |     550 |         1577 | 0 days 09:10:00    | 0 days 14:07:11 |\n",
    "| 10 | ptitbill            |     303 |         1465 | 0 days 13:28:00    | 0 days 20:37:07 |\n",
    "| 17 | Inkety              |      31 |         1467 | 0 days 00:31:00    | 0 days 00:42:31 |\n",
    "\n",
    "They were ~~2,073,933~~ 2,073,569 (removing bots) distinct users who played that month!"
   ]
  },
  {
   "cell_type": "code",
   "execution_count": null,
   "id": "5926e494-0d13-4c0c-99bb-27d3a27a411e",
   "metadata": {},
   "outputs": [],
   "source": [
    "#df_time.describe()"
   ]
  },
  {
   "cell_type": "markdown",
   "id": "b53f168b-eed9-499e-90d9-c50c246b1ee3",
   "metadata": {},
   "source": [
    "## How is time spend playing dispatched by time control?"
   ]
  },
  {
   "cell_type": "code",
   "execution_count": null,
   "id": "35023cdb-d5d3-4525-be1b-5e71e3f95981",
   "metadata": {},
   "outputs": [],
   "source": [
    "def sum_per_perf_of_col(df, column: str):\n",
    "    res = []\n",
    "    for p in perfs:\n",
    "        res.append(df[column.format(p)].sum())\n",
    "    return res\n",
    "\n",
    "def count_per_perf_of_col(df, column: str):\n",
    "    res = []\n",
    "    for p in perfs:\n",
    "        res.append(df[column.format(p)].count())\n",
    "    return res\n",
    "\n",
    "players = count_per_perf_of_col(df, \"{}_games\")\n",
    "games = sum_per_perf_of_col(df,\"{}_games\")\n",
    "real_time = sum_per_perf_of_col(df,\"{}_real_time\")\n",
    "approx_time = sum_per_perf_of_col(df,\"{}_approximate_time\")\n",
    "datas = [{\n",
    "    \"title\": \"Players\",\n",
    "    \"data\": players\n",
    "},{\n",
    "    \"title\": \"Number of games\",\n",
    "    \"data\": games\n",
    "},{\n",
    "    \"title\": \"Real time played\",\n",
    "    \"data\": real_time\n",
    "},{\n",
    "    \"title\": \"Approximate time played\",\n",
    "    \"data\": approx_time\n",
    "}]\n",
    "\n",
    "fig, axs = plt.subplots(ncols=2,nrows=2, figsize=(DFT_WIDTH * 2, DFT_HEIGHT* 2))\n",
    "axs = axs.flatten()\n",
    "for ax, data in zip(axs, datas):\n",
    "    ax.pie(data[\"data\"],labels=perfs,colors=COLOR_MAP.values(),autopct=\"%d%%\")\n",
    "    ax.set_title(f\"{data['title']} per time control\")"
   ]
  },
  {
   "cell_type": "markdown",
   "id": "9b10c778-8813-46cb-a254-288a8b6f0862",
   "metadata": {},
   "source": [
    "As expected the number of games alone is not a good appreciation of how much total time is spent playing. On the other hand though, we can see that the approximate time formula is quite close to the truth for all but classical TC.\n",
    "\n",
    "## In which time control do individual players spend the more time?"
   ]
  },
  {
   "cell_type": "code",
   "execution_count": null,
   "id": "641abce0-3489-4b64-a0c5-9154481dc526",
   "metadata": {},
   "outputs": [],
   "source": [
    "def real_time_box_plot(ax, df, perfs):\n",
    "    data = df[[f\"{x}_real_time\" for x in perfs]]\n",
    "    data_dropna = [values.dropna() for (_, values) in data.items()]\n",
    "    colors = [COLOR_MAP[x] for x in perfs]\n",
    "    bplot = plt.boxplot(data_dropna,patch_artist=True,sym='',labels=perfs,showmeans=True,meanprops={ \"markerfacecolor\":\"white\", \"markeredgecolor\":\"white\"})\n",
    "    for patch, color in zip(bplot['boxes'], colors):\n",
    "        patch.set_facecolor(color)\n",
    "fig = plt.figure(figsize=(DFT_WIDTH * 8 / 5, DFT_WIDTH))\n",
    "ax = fig.add_subplot(1,1,1,)#nrows=1,)\n",
    "datafile = 'user-blog-default.png'\n",
    "img = plt.imread(datafile)\n",
    "real_time_box_plot(ax,df,perfs)\n",
    "print(ax.get_xlim())\n",
    "xl, xh = ax.get_xlim()\n",
    "yl, yh = ax.get_ylim()\n",
    "ax.imshow(img, zorder=0,alpha=0.5,origin=\"upper\",extent=[xl,xh, yl, yh],aspect=\"auto\")\n",
    "ax.set_ylabel(\"real time spent playing (s)\")\n",
    "fig.suptitle(\"Real time spent playing distribution\")\n",
    "fig.set_tight_layout(True) # for the blog post head image"
   ]
  },
  {
   "cell_type": "markdown",
   "id": "008e5ddb-4143-4190-afdd-bd27b84ff82a",
   "metadata": {},
   "source": [
    "This graph demonstrates that the significant popularity of blitz in the dataset is not only due to the fact that there are more players compared to say bullet or rapid, but also because, on average (shown by the triangle in the figure) and median, blitz players spend more time playing it than other time controls. Another point to consider regarding the average time spent is that it frequently exceeds the 75th percentile, indicating the presence of significant outliers (extremely active players in our case)."
   ]
  },
  {
   "cell_type": "code",
   "execution_count": null,
   "id": "881a0801-4d5a-467a-920e-c3768d955221",
   "metadata": {},
   "outputs": [],
   "source": [
    "df1 = df[restrict_to_perf(\"bullet\",False)].copy()\n",
    "df1.sort_values(\"bullet_real_time\", ascending=False, inplace=True)\n",
    "#df1.iloc[:20]"
   ]
  },
  {
   "cell_type": "markdown",
   "id": "1627f1f4-6fa3-479c-8fa9-ad4f80c7b055",
   "metadata": {},
   "source": [
    "Now that we have a first overview of the time spent by time control, it's interesting to consider how in a specific TC the data is distributed."
   ]
  },
  {
   "cell_type": "code",
   "execution_count": null,
   "id": "fe7bd52a-aca6-4b27-b5e0-9c521f81d64e",
   "metadata": {},
   "outputs": [],
   "source": [
    "fig, axs = plt.subplots(ncols=2,nrows=2,figsize=(DFT_WIDTH * 2, DFT_HEIGHT * 2 / 1.5))\n",
    "axs = axs.flatten()\n",
    "def hist(df, ax, data, color,perf,log: bool):\n",
    "    ax.hist(df[data[\"column\"]].astype(\"float64\"),bins=100,color=color,log=log,label=perf,alpha=1)\n",
    "    ax.set_xlabel(data[\"xlabel\"])\n",
    "    ax.set_ylabel(\"number of players\")\n",
    "\n",
    "def perf_hist(df, axs, perf: str,include_avg=False,log=False):\n",
    "    datas = [{\n",
    "        \"column\": f\"{perf}_games\",\n",
    "        \"xlabel\": \"number of games\",\n",
    "    }]\n",
    "    if include_avg:\n",
    "        datas.append({\n",
    "       \"column\": f\"{perf}_avg_rating\",\n",
    "       \"xlabel\": \"average rating\",\n",
    "        })\n",
    "    datas.extend([\n",
    "    {\n",
    "        \"column\": f\"{perf}_approximate_time\",\n",
    "        \"xlabel\": \"approximate time (s)\",\n",
    "    },{\n",
    "        \"column\": f\"{perf}_real_time\",\n",
    "        \"xlabel\": \"real time (s)\",\n",
    "    }])\n",
    "    for (ax, data) in zip(axs, datas):\n",
    "        hist(df,ax,data,COLOR_MAP[perf],perf,log=log)\n",
    "\n",
    "perf_hist(df1, axs, \"bullet\",include_avg=True)\n",
    "fig.suptitle(f\"Bullet distribution by\")"
   ]
  },
  {
   "cell_type": "markdown",
   "id": "7b1d4d2f-3933-41ee-b2fd-056af926b17e",
   "metadata": {},
   "source": [
    "The distribution of the number of games and time appears to follow a tail distribution, while the rating distribution conforms to the expected normal distribution. A big surprise compared to the [online rating distribution, which only take into account players with a stable rating](https://lichess.org/stat/rating/distribution/bullet) is the prominence of new players (big spike around 1500).\n",
    "\n",
    "Let's see whether the tail distribution is also observed in the other time controls, using with a logarithmic y-axis this time."
   ]
  },
  {
   "cell_type": "code",
   "execution_count": null,
   "id": "1c6957ef-9a98-4bd5-8282-343642078c73",
   "metadata": {},
   "outputs": [],
   "source": [
    "fig, axs = plt.subplots(ncols=3,nrows=len(perfs),figsize=(DFT_WIDTH * 2.5, DFT_HEIGHT * len(perfs) / 1.5))\n",
    "\n",
    "for perf, axs_row in zip(perfs, axs):\n",
    "    perf_hist(df, axs_row,perf,log=True)\n",
    "    axs_row[0].legend()\n",
    "fig.suptitle(f\"Distribution by time control of\",y=0.92,size=\"x-large\")"
   ]
  },
  {
   "cell_type": "markdown",
   "id": "fba13ca0-9f83-44f7-a671-01e32c478512",
   "metadata": {},
   "source": [
    "While this overview clearly demonstrate all follow the same law, the lack of common scale make it difficult to compare them."
   ]
  },
  {
   "cell_type": "code",
   "execution_count": null,
   "id": "9cbff0ac-69a0-4128-b431-30a6be6d6dd0",
   "metadata": {},
   "outputs": [],
   "source": [
    "def smooth(df, col,moving_average):\n",
    "    df[col] = df[col].rolling(moving_average).mean()\n",
    "\n",
    "# https://stackoverflow.com/questions/20618804/how-to-smooth-a-curve-for-a-dataset\n",
    "def smoothSO(df, col, box_pts):\n",
    "    box = np.ones(box_pts)/box_pts\n",
    "    df[col] = np.convolve(df[col], box, mode='same')\n",
    "\n",
    "def lowess(df, col_y, col_x, frac):\n",
    "    #x = np.random.uniform(low = -2*np.pi, high = 2*np.pi, size=500)\n",
    "    y = df[col_y]\n",
    "    x = df[col_x]\n",
    "    lowess = sm.nonparametric.lowess(endog=y, exog=x,frac=frac)\n",
    "    df[col_x] = lowess[:, 0]\n",
    "    df[col_y] = lowess[:, 1]\n",
    "    \n",
    "\n",
    "def ln(df, col):\n",
    "    df[col] = np.log(df[col])\n",
    "\n",
    "def exp(df, col):\n",
    "    df[col] = np.exp(df[col])\n",
    "\n",
    "def get_distrib(*, df, col,bins, frac: int | None):\n",
    "    distribs = [np.histogram(df[col.format(perf)].dropna(),bins=bins) for perf in perfs]\n",
    "    distrib_plot = []\n",
    "    for distrib in distribs:\n",
    "        # we want to compute the average of the bucket\n",
    "        average_x = pd.DataFrame(distrib[1], columns=[\"bucket\"])[\"bucket\"].rolling(2).mean().dropna()\n",
    "        res = pd.DataFrame(zip(average_x, distrib[0]), columns=['avg_buckets', 'nb_players'])\n",
    "        # drop points with 0 players\n",
    "        res = res[res[\"nb_players\"] != 0]\n",
    "        if frac:\n",
    "            lowess(res, col_y=\"nb_players\", col_x=\"avg_buckets\",frac=frac)\n",
    "        distrib_plot.append(res)\n",
    "    return distrib_plot\n",
    "\n",
    "def draw_loglog(*, ax, df, col,bins,frac):\n",
    "    for perf, plot_df in zip(perfs, get_distrib(df=df, col=col,bins=bins,frac=frac)):\n",
    "        ax.loglog(plot_df[\"avg_buckets\"], plot_df[\"nb_players\"],color=COLOR_MAP[perf],label=perf)\n",
    "    #ax.set_yscale('log')\n",
    "    #ax.set_xscale('log')\n",
    "    ax.set_ylabel(\"number of players\")\n",
    "    ax.legend()\n",
    "\n",
    "fig, ax = plt.subplots(ncols=2,nrows=1, figsize=(DFT_WIDTH * 2, DFT_HEIGHT))\n",
    "\n",
    "draw_loglog(ax=ax[0], df=df, col=\"{}_games\",bins=100,frac=0.1)\n",
    "ax[0].set_title(\"number of games distribution (LOWESS Smoothing)\")\n",
    "ax[0].set_xlabel(\"number of games played\")\n",
    "\n",
    "draw_loglog(ax=ax[1], df=df, col=\"{}_real_time\",bins=10_000,frac=0.011)\n",
    "ax[1].set_title(\"real time spent playing distribution (LOWESS Smoothing)\")\n",
    "ax[1].set_xlabel(\"real time spent playing (s)\")"
   ]
  },
  {
   "cell_type": "markdown",
   "id": "461cf007-8cc2-4a20-8fdc-e52339fe5e9b",
   "metadata": {},
   "source": [
    "This loglog graph confirms the exponential decrease of players per number of games played. \n",
    "\n",
    "Additionally, there is a noticeable spike in game duration for each time control, aligning with the expected duration of one game in that specific TC. Interestingly, as the TC becomes slower, the spike in game duration becomes smoother, indicating a greater variety in game duration.\n",
    "\n",
    "However, what is peculiar is that this pattern does not hold true for classical time control. Unlike bullet, blitz, and rapid, where longer time controls result in longer game durations, players seem to blitz-out more than they should in classical games, thus finishing them quicker than expected."
   ]
  },
  {
   "cell_type": "code",
   "execution_count": null,
   "id": "a82cf16b-61aa-4cd8-97d1-b5746dc67564",
   "metadata": {},
   "outputs": [],
   "source": [
    "# Compute the relative error of the real time spent, compared to the average computed one\n",
    "df_avg_error = df.copy()\n",
    "for perf in perfs:\n",
    "    df_avg_error[f\"{perf}_relative_error\"] = (df[f\"{perf}_approximate_time\"] - df[f\"{perf}_real_time\"]).abs() / df[f\"{perf}_real_time\"]\n",
    "\n",
    "# Restricting to blitz to see all columns\n",
    "#df_avg_error[restrict_to_perf(\"blitz\")]"
   ]
  },
  {
   "cell_type": "markdown",
   "id": "7cb9db53-675e-4473-97c4-0ebf145666a8",
   "metadata": {},
   "source": [
    "## How accurate is the approximate game duration formula?\n",
    "\n",
    "Let's now look a bit deeper on the approximate game duration formula used by Lichess and see if it confirms our hunch that at least for classical it is too generous."
   ]
  },
  {
   "cell_type": "code",
   "execution_count": null,
   "id": "531e3d5d-3b48-414f-a6fc-49ddea5529d7",
   "metadata": {},
   "outputs": [],
   "source": [
    "avg_errors = [f\"{p}_relative_error\" for p in perfs]\n",
    "def filter_relative_error(df, perfs):\n",
    "    return [df[df[f\"{c}_relative_error\"] < df[f\"{c}_relative_error\"].quantile(0.99)][f\"{c}_relative_error\"] for c in perfs]\n",
    "\n",
    "def relative_better_boxplot(ax, df, perfs):\n",
    "    data = filter_relative_error(df, perfs)\n",
    "    colors = [COLOR_MAP[x] for x in perfs]\n",
    "    bplot = ax.boxplot(data,patch_artist=True,sym='',labels=perfs,showmeans=True,meanprops={ \"markerfacecolor\":\"white\", \"markeredgecolor\":\"white\"})\n",
    "    for patch, color in zip(bplot['boxes'], colors):\n",
    "        patch.set_facecolor(color)\n",
    "\n",
    "    \n",
    "fig, axs = plt.subplots(ncols=2,nrows=1,figsize=(DFT_WIDTH * 1.5, DFT_HEIGHT),gridspec_kw={\"width_ratios\": [4, 1]})\n",
    "relative_better_boxplot(axs[0],df_avg_error,perfs[:-1])\n",
    "y_label = \"absolute relative error\"\n",
    "axs[0].set_ylabel(y_label)\n",
    "relative_better_boxplot(axs[1],df_avg_error,perfs[-1:])\n",
    "axs[1].set_ylabel(y_label)\n",
    "fig.suptitle(\"Game duration approximation absolute relative error\")\n",
    "#relative_better_boxplot(axs[0], df_avg_error, perfs)"
   ]
  },
  {
   "cell_type": "markdown",
   "id": "62d2db67-02cd-43c0-bff3-a9084741b0fe",
   "metadata": {},
   "source": [
    "As we can see the formula is quite accurate for short time controls, but its accuracy diminishes as the initial time on the clock increases, to the point that a separate subplot was required for classical in order to accommodate the change in scale.\n",
    "\n",
    "But does the formula overestimate or underestimate the game duration? To answer that a question we need to look at the non-absolute relative error distribution."
   ]
  },
  {
   "cell_type": "code",
   "execution_count": null,
   "id": "be8f8155-e40c-413a-bf44-7906b5782635",
   "metadata": {},
   "outputs": [],
   "source": [
    "non_abs_rel_error = df.copy()\n",
    "\n",
    "APPROX_ERROR_MIN_QUANTILE = 0.01\n",
    "APPROX_ERROR_MAX_QUANTILE = 0.95\n",
    "for perf in perfs:\n",
    "    non_abs_rel_error[f\"{perf}_relative_error\"] = (df[f\"{perf}_approximate_time\"] - df[f\"{perf}_real_time\"]) / df[f\"{perf}_real_time\"]\n",
    "\n",
    "\n",
    "fig, axs = plt.subplots(ncols=2,nrows=3,figsize=(DFT_WIDTH * 2, DFT_HEIGHT * 2))\n",
    "axs = axs.flatten()\n",
    "\n",
    "def perf_hist_err(df, ax, perf: str):\n",
    "    col = f\"{perf}_relative_error\"\n",
    "    data = df[ (df[col] < df[col].quantile(APPROX_ERROR_MAX_QUANTILE)) & (df[col] > df[col].quantile(APPROX_ERROR_MIN_QUANTILE))][col]\n",
    "    ax.hist(data,bins=100,color=COLOR_MAP[perf],label=perf)\n",
    "    ax.set_xlabel(\"relative error\")\n",
    "    ax.set_ylabel(\"number of players\")\n",
    "    ax.legend()\n",
    "\n",
    "for perf, ax in zip(perfs, axs):\n",
    "    perf_hist_err(non_abs_rel_error, ax,perf)\n",
    "axs[-1].axis('off')\n",
    "fig.suptitle(f\"Game duration formula relative error (quantiles {APPROX_ERROR_MIN_QUANTILE}-{APPROX_ERROR_MAX_QUANTILE})\",y=0.92,size=\"x-large\")"
   ]
  },
  {
   "cell_type": "markdown",
   "id": "12231924-c43b-4544-a7cd-9b59cd36bd87",
   "metadata": {},
   "source": [
    "The formula tends to underestimate the game duration in short time controls, then starts overestimating it. Note that outliers were removed from the data visualization. I am not sure what phenomon create these spikes int the ultrabullet distribution, but I assume it has to do with the fact I only have game duration down to the second, which may not accurately capture the time taken in those ultra-fast games.\n"
   ]
  },
  {
   "cell_type": "code",
   "execution_count": null,
   "id": "902b7fd1-bfe7-4337-bea2-d3b0670c01c2",
   "metadata": {},
   "outputs": [],
   "source": [
    "#df_avg_error[[f\"{p}_relative_error\" for p in perfs]].describe(percentiles=[.5, .75,.90,.95,.99])"
   ]
  },
  {
   "cell_type": "markdown",
   "id": "603811a3-4f60-443a-93d6-f819b5154769",
   "metadata": {},
   "source": [
    "## Do better players play more?\n",
    "\n",
    "While correlation is not causality, it is interesting to see if better players play more than the average. A first approach is to graph the time spent playing per rating and see if a trend can be seen at the naked eye."
   ]
  },
  {
   "cell_type": "code",
   "execution_count": null,
   "id": "f735a0e9-92f7-4cdb-883d-7f805824a088",
   "metadata": {},
   "outputs": [],
   "source": [
    "# Scatter plot, x rating, y time-spent\n",
    "\n",
    "def scatter(df, ax, perf):\n",
    "    ax.scatter(x=df[f\"{perf}_avg_rating\"],y=df[f\"{perf}_real_time\"],color=COLOR_MAP[perf],s=1)\n",
    "    ax.set_ylabel(\"real time (s)\")\n",
    "    #ax.set_label(perf)\n",
    "    ax.set_xlabel(\"rating\")\n",
    "\n",
    "fig, axs = plt.subplots(ncols=2,nrows=3,figsize=(DFT_WIDTH * 2, DFT_HEIGHT * 2))\n",
    "axs = axs.flatten()\n",
    "for ax, perf in zip(axs, perfs):\n",
    "    scatter(df, ax, perf)\n",
    "    ax.legend(labels=[perf],markerscale=5,markerfirst=False) # FIXME: couldn't get to make the legend box appear \n",
    "# last one is all combined\n",
    "for perf in perfs:\n",
    "    scatter(df, axs[-1], perf)\n",
    "axs[-1].legend(labels=perfs,markerscale=5,markerfirst=False) # FIXME: couldn't get to make the legend box appear \n",
    "fig.suptitle(\"Real time played per rating\",y=0.92,size=\"x-large\")"
   ]
  },
  {
   "cell_type": "markdown",
   "id": "19b278b5-3d3d-4ed4-a9d7-b3fc6b791c03",
   "metadata": {},
   "source": [
    "There seems to be a slight tendency for players above 1500 to play more, we can confirm that by checking the rating distribution weighted by time played."
   ]
  },
  {
   "cell_type": "code",
   "execution_count": null,
   "id": "67dfa5c7-8119-442a-9af6-53f681d0097c",
   "metadata": {},
   "outputs": [],
   "source": [
    "# Weighted histogram. Total time per rating\n",
    "\n",
    "fig, axs = plt.subplots(ncols=2,nrows=3,figsize=(DFT_WIDTH * 2, DFT_HEIGHT * 2))\n",
    "axs = axs.flatten()\n",
    "\n",
    "def perf_hist_weighted(df, ax, perf: str):\n",
    "    ax.hist(df[f\"{perf}_avg_rating\"],bins=100,color=COLOR_MAP[perf],weights=df[f\"{perf}_real_time\"],density=True, label=f\"weighted {perf}\")\n",
    "    ax.hist(df[f\"{perf}_avg_rating\"],bins=100,alpha=0.4,density=True,edgecolor = \"black\",color=\"white\",label=perf) # color=COLOR_MAP[perf]\n",
    "    ax.set_xlabel(\"rating\")\n",
    "    ax.set_ylabel(\"density\")\n",
    "    ax.legend()\n",
    "    #ax.set_title(perf)\n",
    "\n",
    "for perf, ax in zip(perfs, axs):\n",
    "    perf_hist_weighted(df, ax,perf)\n",
    "axs[-1].axis('off')\n",
    "fig.suptitle(\"rating density, weighted by time played\",y=0.92,size=\"x-large\")"
   ]
  },
  {
   "cell_type": "markdown",
   "id": "abb2243c-dde2-4f2e-85a1-6ccf2ac64962",
   "metadata": {},
   "source": [
    "Proportionally weighting by time played has the consequence of erasing the new players spike at 1500 in all but classical time controls, as well as shifting the bell curve to the right (compared to the online version), confirming that **better players (as in players above the median) play more games**, an expected result.\n",
    "\n",
    "A last question that can be asked is if those highly active players participate in multiple time controls or if they specialize in just one."
   ]
  },
  {
   "cell_type": "code",
   "execution_count": null,
   "id": "78301e0f-cd2a-4e83-902c-c78948b8bba7",
   "metadata": {},
   "outputs": [],
   "source": [
    "from PIL import Image, ImageOps\n",
    "\n",
    "\n",
    "# https://stackoverflow.com/a/60737369/11955835\n",
    "def resize_with_padding(img, expected_size):\n",
    "    img.thumbnail((expected_size[0], expected_size[1]))\n",
    "    delta_width = expected_size[0] - img.size[0]\n",
    "    delta_height = expected_size[1] - img.size[1]\n",
    "    pad_width = delta_width // 2\n",
    "    pad_height = delta_height // 2\n",
    "    padding = (pad_width, pad_height, int(delta_width - pad_width), delta_height - pad_height)\n",
    "    return ImageOps.expand(img, padding)\n",
    "\n",
    "# Make it so all images have 1.33 aspect ratio\n",
    "def normalise_img(path):\n",
    "    desired_aspect_ratio = 1.33\n",
    "    old = Image.open(path)\n",
    "    width, height = old.size\n",
    "    current_asp = width / height\n",
    "    if abs(current_asp - desired_aspect_ratio) < 0.01:\n",
    "        return old # Good enough\n",
    "    return resize_with_padding(old, (int(width * desired_aspect_ratio), int(width)))\n",
    "\n",
    "def perf_to_perf_corr_matrix(df, fig, ax, perf1, perf2):\n",
    "    ax.set_xticks([])\n",
    "    ax.set_yticks([])\n",
    "    if perf1 == perf2:\n",
    "        img = np.array(normalise_img(f\"perfs-icon/{perf1}.png\"))\n",
    "        ax.imshow(img)\n",
    "        ax.set_facecolor(fig.get_facecolor())\n",
    "        return\n",
    "    norm = mpl.colors.Normalize(vmin=-1, vmax=1)\n",
    "    # between -1 and 1\n",
    "    # Confirmed that it only take into account rows where's no `Nan`\n",
    "    corr = df[f\"{perf1}_real_time\"].corr(df[f\"{perf2}_real_time\"])\n",
    "    ax.text(0.5, 0.5, f\"{corr:.2f}\", horizontalalignment='center', verticalalignment='center',fontsize=14, weight='bold',color=\"black\")\n",
    "    color = plt.cm.seismic(norm(corr))\n",
    "    # Create a color gradient based on value\n",
    "    # Set the background color of the figure\n",
    "    ax.patch.set_facecolor(color)\n",
    "\n",
    "def cartesian_perf():\n",
    "    for p1 in perfs:\n",
    "        for p2 in perfs:\n",
    "            yield (p1, p2)\n",
    "#mother_fig = plt.figure(layout='constrained', figsize=(DFT_WIDTH * 1.5, DFT_HEIGHT * 1.5))\n",
    "#subfigs = mother_fig.subfigures(ncols=2, nrows=1, width_ratios=[10,1])\n",
    "#fig = subfigs[0]\n",
    "#axs = fig.subplots(ncols=len(perfs),nrows=len(perfs))\n",
    "#axs = axs.flatten()\n",
    "#fig.subplots_adjust(wspace=0, hspace=0)\n",
    "\n",
    "def draw_perf_to_perf_corr_matrix(df, axs, fig):\n",
    "    for i, (ax, cart_perf) in enumerate(zip(axs, cartesian_perf())):\n",
    "        perf_to_perf_corr_matrix(df, fig, ax, *cart_perf)\n",
    "        if i % 5 == 0: # first column\n",
    "            ax.set_ylabel(cart_perf[0])\n",
    "        else:\n",
    "            ax.set_yticklabels([])\n",
    "        if i >= 20: # last row\n",
    "            ax.set_xlabel(cart_perf[1])\n",
    "        else:\n",
    "            ax.set_xticklabels([])\n",
    "    \n",
    "    fig.suptitle(\"Scatter matrix plot of time spent by time control\",y=0.92,size=\"x-large\")\n",
    "    label = \"real time spent (s)\"\n",
    "    fig.supxlabel(label)#size=\"x-large\")#y=0.07)\n",
    "    fig.supylabel(label)#size=\"x-large\")#x=0.09)\n",
    "#draw_perf_to_perf_corr_matrix(df, axs, fig)\n",
    "plt.matshow(df[[f\"{perf}_real_time\" for perf in perfs]].corr())\n",
    "#df[[f\"{perf}_real_time\" for perf in perfs]].corr()"
   ]
  },
  {
   "cell_type": "markdown",
   "id": "beb46de8-9e67-4f19-aafa-9cea10db6aa3",
   "metadata": {},
   "source": [
    "Clearly active players seem to be focused on one particular time control most of the time, and the further apart the different time controls are in terms of speed, the fewer players we find playing both of them, with the extreme example being ultrabullet & classical players.\n",
    "\n",
    "## Conclusion\n",
    "\n",
    "If you feel trapped in an unstoppable blitz frenzzy, you are not alone, but I guess you did not need those numbers to know that ;)"
   ]
  },
  {
   "cell_type": "code",
   "execution_count": null,
   "id": "f143326a-90c9-4c68-b847-445d17858772",
   "metadata": {},
   "outputs": [],
   "source": [
    "df_total = df.copy()\n",
    "df_total[\"total_real_time\"] = df[[f\"{perf}_real_time\" for perf in perfs]].sum(axis=1)\n",
    "df_total[\"total_formated\"] = df_total[\"total_real_time\"].apply(lambda x: pd.to_timedelta(x,unit=\"S\"))\n",
    "df_total.sort_values(\"total_real_time\", ascending=False, inplace=True)\n",
    "df_total[[\"username\", \"total_formated\"]].iloc[:5]"
   ]
  },
  {
   "cell_type": "code",
   "execution_count": null,
   "id": "10713508-4308-4279-b8c1-2a6ccd1bbb39",
   "metadata": {},
   "outputs": [],
   "source": [
    "def plot_cum_perfs(ax, df):\n",
    "    usernames = df[\"username\"]\n",
    "    time_played_acc = np.zeros(len(usernames))\n",
    "    for perf in perfs:\n",
    "        data = df[f\"{perf}_real_time\"].fillna(0)\n",
    "        rects = ax.barh(usernames, data, color=COLOR_MAP[perf],left=time_played_acc,label=perf)\n",
    "        time_played_acc += data\n",
    "    assert time_played_acc.equals(df[\"total_real_time\"])\n",
    "\n",
    "    ax.bar_label(rects, df[\"total_formated\"],\n",
    "                  padding=-100, color='white', fontweight='bold')\n",
    "    ax.legend()\n",
    "    ax.invert_yaxis() # to have the top value at the top\n",
    "    ax.set_xlim(right=time_played_acc.max() * 1.3)\n",
    "    \n",
    "fig = plt.figure(figsize=(DFT_WIDTH * 1.5, DFT_HEIGHT * 1.5))\n",
    "ax = fig.add_subplot(1,1,1,)\n",
    "top = 20\n",
    "plot_cum_perfs(ax, df_total.iloc[:top])\n",
    "ax.set_title(f\"Top {top} most active players\")\n",
    "#ax.set_ylabel(\"usernames\")\n",
    "ax.set_xlabel(\"real time (s)\")\n",
    "#ax.barh([\"a\", \"b\", \"c\"], [1, 2, 3])\n",
    "#plt.show()"
   ]
  },
  {
   "cell_type": "code",
   "execution_count": null,
   "id": "362b488d-471d-435d-a985-a9fb30d6c2aa",
   "metadata": {},
   "outputs": [],
   "source": []
  }
 ],
 "metadata": {
  "kernelspec": {
   "display_name": "Python 3 (ipykernel)",
   "language": "python",
   "name": "python3"
  },
  "language_info": {
   "codemirror_mode": {
    "name": "ipython",
    "version": 3
   },
   "file_extension": ".py",
   "mimetype": "text/x-python",
   "name": "python",
   "nbconvert_exporter": "python",
   "pygments_lexer": "ipython3",
   "version": "3.11.5"
  }
 },
 "nbformat": 4,
 "nbformat_minor": 5
}
