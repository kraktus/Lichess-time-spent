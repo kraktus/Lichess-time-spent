{
 "cells": [
  {
   "cell_type": "code",
   "execution_count": null,
   "id": "43a7954f-f60d-4224-8861-c00779e33c78",
   "metadata": {},
   "outputs": [],
   "source": [
    "import pandas as pd\n",
    "\n",
    "perfs = [\"ultrabullet\", \"bullet\", \"blitz\", \"rapid\", \"classical\"]\n",
    "\n",
    "dtypes = {\"username\": \"string\"}\n",
    "\n",
    "for perf in perfs:\n",
    "    dtypes[f\"{perf}_approximate_time\"] = \"Int64\"\n",
    "    dtypes[f\"{perf}_real_time\"] = \"Int64\"\n",
    "\n",
    "\n",
    "df = pd.read_csv(\"time-spent-2017-04.csv\",dtype=dtypes)\n",
    "df.dtypes"
   ]
  },
  {
   "cell_type": "code",
   "execution_count": null,
   "id": "e365d234-66be-463b-98f8-282da3963e98",
   "metadata": {},
   "outputs": [],
   "source": [
    "df_time = df.copy()\n",
    "\n",
    "def convert(c):\n",
    "    df_time[c] = df_time[c].apply(lambda x: pd.to_timedelta(x,unit=\"S\"))\n",
    "\n",
    "for perf in perfs:\n",
    "    convert(f\"{perf}_approximate_time\")\n",
    "    convert(f\"{perf}_real_time\")\n",
    "df_time"
   ]
  },
  {
   "cell_type": "code",
   "execution_count": null,
   "id": "5926e494-0d13-4c0c-99bb-27d3a27a411e",
   "metadata": {},
   "outputs": [],
   "source": [
    "df_time.describe()"
   ]
  },
  {
   "cell_type": "code",
   "execution_count": null,
   "id": "a2563a01-51f7-4ef5-819d-961959b00581",
   "metadata": {},
   "outputs": [],
   "source": [
    "df1 = df[[\"username\", \"bullet_games\", \"bullet_approximate_time\", \"bullet_real_time\"]].copy()\n",
    "df1.sort_values(\"bullet_real_time\", ascending=False, inplace=True)\n",
    "df1"
   ]
  },
  {
   "cell_type": "code",
   "execution_count": null,
   "id": "fe7bd52a-aca6-4b27-b5e0-9c521f81d64e",
   "metadata": {},
   "outputs": [],
   "source": [
    "df1.hist(bins=1000,log=True)"
   ]
  },
  {
   "cell_type": "code",
   "execution_count": null,
   "id": "2720ca6d-42dc-4d62-a9de-bd251590dac1",
   "metadata": {},
   "outputs": [],
   "source": [
    "# Only show players with more than x games\n",
    "x = 100\n",
    "more_x_bullet_games = df1.query(f\"bullet_games>{x}\").copy()\n",
    "print(f\"{more_x_bullet_games.shape[0]} players with more than {x} games\")\n",
    "more_x_bullet_games.hist(bins=1000)"
   ]
  },
  {
   "cell_type": "code",
   "execution_count": null,
   "id": "1c6957ef-9a98-4bd5-8282-343642078c73",
   "metadata": {},
   "outputs": [],
   "source": [
    "colors = [ \"#1f77b4\",\"#ff7f0e\",\"#2ca02c\",\"#d62728\",\"#9467bd\",\"#8c564b\",\"#e377c2\",\"#7f7f7f\",\"#bcbd22\",\"#17becf\"]\n",
    "for (perf, color) in zip(perfs, colors):\n",
    "    df.hist(bins=1000,log=True,color=color,column=[f\"{perf}_games\", f\"{perf}_approximate_time\", f\"{perf}_real_time\"])"
   ]
  },
  {
   "cell_type": "code",
   "execution_count": null,
   "id": "a82cf16b-61aa-4cd8-97d1-b5746dc67564",
   "metadata": {},
   "outputs": [],
   "source": [
    "# Compute the relative error of the real time spent, compared to the average computed one\n",
    "df_avg_error = df.copy()\n",
    "for perf in perfs:\n",
    "    df_avg_error[f\"{perf}_relative_error\"] = (df_avg_error[f\"{perf}_approximate_time\"] - df_avg_error[f\"{perf}_real_time\"]).abs() / df_avg_error[f\"{perf}_real_time\"]\n",
    "\n",
    "# Restricting to blitz to see all columns\n",
    "df_avg_error[[\"username\", \"blitz_games\", \"blitz_approximate_time\", \"blitz_real_time\", \"blitz_relative_error\"]]"
   ]
  },
  {
   "cell_type": "code",
   "execution_count": null,
   "id": "531e3d5d-3b48-414f-a6fc-49ddea5529d7",
   "metadata": {},
   "outputs": [],
   "source": [
    "df_avg_error.dtypes"
   ]
  },
  {
   "cell_type": "code",
   "execution_count": null,
   "id": "902b7fd1-bfe7-4337-bea2-d3b0670c01c2",
   "metadata": {},
   "outputs": [],
   "source": [
    "df_avg_error[[f\"{p}_relative_error\" for p in perfs]].describe()"
   ]
  },
  {
   "cell_type": "code",
   "execution_count": null,
   "id": "d129a6f1-61e9-4ce7-bc56-761ba24d7dae",
   "metadata": {},
   "outputs": [],
   "source": [
    "# Investing why the max error is so high\n",
    "\n",
    "max_avg_error_first = df_avg_error.sort_values(\"blitz_relative_error\", ascending=False)\n",
    "max_avg_error_first.query(\"blitz_games>2\")[[\"username\", \"blitz_games\", \"blitz_approximate_time\", \"blitz_real_time\", \"blitz_relative_error\"]][:20]"
   ]
  },
  {
   "cell_type": "code",
   "execution_count": null,
   "id": "d142e054-053f-4324-93d4-1e78fdea60e0",
   "metadata": {},
   "outputs": [],
   "source": [
    "# Only show players with more than x games\n",
    "x = 100\n",
    "for (perf, color) in zip(perfs, colors):\n",
    "    more_x_games = df_avg_error.query(f\"{perf}_games>{x}\").copy()\n",
    "    print(f\"{more_x_games.shape[0]} players with more than {x} {perf} games\")\n",
    "    more_x_games.hist(bins=100,column=f\"{perf}_relative_error\",color=color)"
   ]
  },
  {
   "cell_type": "code",
   "execution_count": null,
   "id": "f735a0e9-92f7-4cdb-883d-7f805824a088",
   "metadata": {},
   "outputs": [],
   "source": []
  }
 ],
 "metadata": {
  "kernelspec": {
   "display_name": "Python 3 (ipykernel)",
   "language": "python",
   "name": "python3"
  },
  "language_info": {
   "codemirror_mode": {
    "name": "ipython",
    "version": 3
   },
   "file_extension": ".py",
   "mimetype": "text/x-python",
   "name": "python",
   "nbconvert_exporter": "python",
   "pygments_lexer": "ipython3",
   "version": "3.11.5"
  }
 },
 "nbformat": 4,
 "nbformat_minor": 5
}
