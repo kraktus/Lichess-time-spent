{
 "cells": [
  {
   "cell_type": "markdown",
   "id": "c9a24780-da2f-4949-a42e-f73de30f4503",
   "metadata": {},
   "source": [
    "The existence and mechanisms of Chess addiction have been an everlasting question, with forum posts mentioning it on Lichess as early [as in 2014](https://lichess.org/forum/general-chess-discussion/online-chess-addiction), but even predates the online chess' era as this [Chicago reader's 1988 demonstrates](https://chicagoreader.com/news-politics/addicted-to-chess/).\n",
    "\n",
    "\n",
    "Chess addiction has always been a recurring subject online, and while its formal existence should be left to rigourous studies, it has lead me to wonder more generally about how players spent their time playing on Lichess, which we will delve into.\n",
    "\n",
    "The data was aggregated from the January 2023 Lichess rated games (freely available on the [Lichess database](https://database.lichess.org)). Games shorter than 4 plies were filtered out. For each account (which from now on I will consider equivalent to one user), I kept their their username, as well as for each time control:\n",
    "*   Number of games\n",
    "*   Average rating\n",
    "*   Approximate time spent, which is based on the exact time control only, and [used by Lichess](https://lichess.org/faq#time-controls) to differenciate between blitz/bullet/etc: (**clock initial time in seconds) + 40 × (clock increment)**.\n",
    "*   Real time spent, based on clocks. Does not take into account the use of the `+15s` button, which was considered negligible."
   ]
  },
  {
   "cell_type": "code",
   "execution_count": null,
   "id": "43a7954f-f60d-4224-8861-c00779e33c78",
   "metadata": {},
   "outputs": [],
   "source": [
    "import pandas as pd\n",
    "import matplotlib.pyplot as plt\n",
    "\n",
    "# Define global style of the plt for all graphs\n",
    "plt.style.use(\"dark_background\")\n",
    "plt.rcParams['axes.facecolor'] = \"#444445\"\n",
    "plt.rcParams[\"figure.facecolor\"] = \"#333\"\n",
    "plt.rcParams[\"grid.color\"] = \"#fff\"\n",
    "plt.rcParams[\"grid.linestyle\"] = \"-.\"\n",
    "plt.rcParams[\"grid.linewidth\"] = 0.2\n",
    "\n",
    "perfs = [\"ultrabullet\", \"bullet\", \"blitz\", \"rapid\", \"classical\"]\n",
    "colors = [ \"#1f77b4\",\"#ff7f0e\",\"#2ca02c\",\"#d62728\",\"#9467bd\",\"#8c564b\",\"#e377c2\",\"#7f7f7f\",\"#bcbd22\",\"#17becf\"]\n",
    "COLOR_MAP = { \"ultrabullet\": , \"bullet\": \"#81b1d2\", \"blitz\": \"#fa8174\", \"rapid\":\"#fdb462\", \"classical\":}"
   ]
  },
  {
   "cell_type": "code",
   "execution_count": null,
   "id": "bff6c775-ec57-447b-ab7e-244c5937fe3f",
   "metadata": {},
   "outputs": [],
   "source": [
    "dtypes = {\"username\": \"string\"}\n",
    "\n",
    "for perf in perfs:\n",
    "    dtypes[f\"{perf}_approximate_time\"] = \"Int64\"\n",
    "    dtypes[f\"{perf}_real_time\"] = \"Int64\"\n",
    "    dtypes[f\"{perf}_avg_rating\"] = \"Int64\"\n",
    "\n",
    "def restrict_to_perf(perf: str, with_error = True):\n",
    "    l = [\"username\", f\"{perf}_games\", f\"{perf}_avg_rating\",f\"{perf}_approximate_time\", f\"{perf}_real_time\"]\n",
    "    if with_error:\n",
    "        l.append(f\"{perf}_relative_error\")\n",
    "    return l\n",
    "\n",
    "#df = pd.read_csv(\"time-spent.csv\",dtype=dtypes)\n",
    "df = pd.read_csv(\"time-spent-2017-04.csv\",dtype=dtypes)\n",
    "df.dtypes"
   ]
  },
  {
   "cell_type": "code",
   "execution_count": null,
   "id": "e365d234-66be-463b-98f8-282da3963e98",
   "metadata": {},
   "outputs": [],
   "source": [
    "df_time = df.copy()\n",
    "\n",
    "def convert(c):\n",
    "    df_time[c] = df_time[c].apply(lambda x: pd.to_timedelta(x,unit=\"S\"))\n",
    "\n",
    "for perf in perfs:\n",
    "    convert(f\"{perf}_approximate_time\")\n",
    "    convert(f\"{perf}_real_time\")\n",
    "df_time"
   ]
  },
  {
   "cell_type": "markdown",
   "id": "179037c3-3455-42cb-a6fa-ff23af7a4a51",
   "metadata": {},
   "source": [
    "Here is an extract from the data"
   ]
  },
  {
   "cell_type": "code",
   "execution_count": null,
   "id": "a339ef36-55a4-4cc8-bf8c-adcedf7e3788",
   "metadata": {},
   "outputs": [],
   "source": [
    "print(df_time[df_time[\"bullet_games\"] > 2].iloc[:2][restrict_to_perf(\"bullet\",False)].to_markdown())"
   ]
  },
  {
   "cell_type": "markdown",
   "id": "0350b1a5-f604-44ff-a5e5-8cc8c0c85251",
   "metadata": {},
   "source": [
    "|    | username        |   bullet_games |   bullet_avg_rating | bullet_approximate_time   | bullet_real_time   |\n",
    "|---:|:----------------|---------------:|--------------------:|:--------------------------|:-------------------|\n",
    "|  0 | claujas         |              8 |                1170 | 0 days 00:18:10           | 0 days 00:29:23    |\n",
    "|  8 | danial_shahmiri |             57 |                1970 | 0 days 00:48:30           | 0 days 01:05:33    |\n",
    "\n",
    "<INSERT_REAL_NUMBER> distinct users."
   ]
  },
  {
   "cell_type": "code",
   "execution_count": null,
   "id": "5926e494-0d13-4c0c-99bb-27d3a27a411e",
   "metadata": {},
   "outputs": [],
   "source": [
    "df_time.describe()"
   ]
  },
  {
   "cell_type": "code",
   "execution_count": null,
   "id": "a2563a01-51f7-4ef5-819d-961959b00581",
   "metadata": {},
   "outputs": [],
   "source": [
    "df1 = df[[\"username\", \"bullet_games\", \"bullet_avg_rating\", \"bullet_approximate_time\", \"bullet_real_time\"]].copy()\n",
    "df1.sort_values(\"bullet_avg_rating\", ascending=False, inplace=True)\n",
    "df1.iloc[:20]"
   ]
  },
  {
   "cell_type": "code",
   "execution_count": null,
   "id": "fe7bd52a-aca6-4b27-b5e0-9c521f81d64e",
   "metadata": {},
   "outputs": [],
   "source": [
    "df1.hist(bins=100)"
   ]
  },
  {
   "cell_type": "code",
   "execution_count": null,
   "id": "2720ca6d-42dc-4d62-a9de-bd251590dac1",
   "metadata": {},
   "outputs": [],
   "source": [
    "# plt.grid(color='#434343', linestyle='-.', linewidth=0.7)\n",
    "# Only show players with more than x games\n",
    "x = 100\n",
    "more_x_bullet_games = df1.query(f\"bullet_games>{x}\").copy()\n",
    "print(f\"{more_x_bullet_games.shape[0]} players with more than {x} games\")\n",
    "more_x_bullet_games.hist(bins=100)"
   ]
  },
  {
   "cell_type": "code",
   "execution_count": null,
   "id": "1c6957ef-9a98-4bd5-8282-343642078c73",
   "metadata": {},
   "outputs": [],
   "source": [
    "#for (perf, color) in zip(perfs, colors):\n",
    "for (perf, color) in zip(perfs, [  # [x[\"color\"] for x in plt.rcParams[\"axes.prop_cycle\"]] with dark_background theme\n",
    "            \"#8dd3c7\",\n",
    "            \"#feffb3\",\n",
    "            \"#bfbbd9\",\n",
    "            \"#fa8174\",\n",
    "            \"#81b1d2\",\n",
    "            \"#fdb462\",\n",
    "            \"#b3de69\",\n",
    "            \"#bc82bd\",\n",
    "            \"#ccebc4\",\n",
    "            \"#ffed6f\",\n",
    "        ][2:]):\n",
    "    print(color, perf)\n",
    "    df.hist(bins=20,log=True,color=color,column=[f\"{perf}_games\", f\"{perf}_approximate_time\", f\"{perf}_real_time\"])"
   ]
  },
  {
   "cell_type": "code",
   "execution_count": null,
   "id": "a82cf16b-61aa-4cd8-97d1-b5746dc67564",
   "metadata": {},
   "outputs": [],
   "source": [
    "# Compute the relative error of the real time spent, compared to the average computed one\n",
    "df_avg_error = df.copy()\n",
    "for perf in perfs:\n",
    "    df_avg_error[f\"{perf}_relative_error\"] = (df_avg_error[f\"{perf}_approximate_time\"] - df_avg_error[f\"{perf}_real_time\"]).abs() / df_avg_error[f\"{perf}_real_time\"]\n",
    "\n",
    "# Restricting to blitz to see all columns\n",
    "df_avg_error[restrict_to_perf(\"blitz\")]"
   ]
  },
  {
   "cell_type": "code",
   "execution_count": null,
   "id": "531e3d5d-3b48-414f-a6fc-49ddea5529d7",
   "metadata": {},
   "outputs": [],
   "source": [
    "df_avg_error.dtypes"
   ]
  },
  {
   "cell_type": "code",
   "execution_count": null,
   "id": "902b7fd1-bfe7-4337-bea2-d3b0670c01c2",
   "metadata": {},
   "outputs": [],
   "source": [
    "df_avg_error[[f\"{p}_relative_error\" for p in perfs]].describe(percentiles=[.5, .75,.90,.95,.99])"
   ]
  },
  {
   "cell_type": "code",
   "execution_count": null,
   "id": "d129a6f1-61e9-4ce7-bc56-761ba24d7dae",
   "metadata": {},
   "outputs": [],
   "source": [
    "# Investing why the max error is so high\n",
    "\n",
    "max_avg_error_first = df_avg_error.sort_values(\"blitz_relative_error\", ascending=False)\n",
    "max_avg_error_first.query(\"blitz_games>=2\")[restrict_to_perf(\"blitz\")][:20]"
   ]
  },
  {
   "cell_type": "code",
   "execution_count": null,
   "id": "d142e054-053f-4324-93d4-1e78fdea60e0",
   "metadata": {},
   "outputs": [],
   "source": [
    "# Only show players with more than x games\n",
    "x = 30\n",
    "for (perf, color) in zip(perfs, colors):\n",
    "    more_x_games = df_avg_error.query(f\"{perf}_games>{x}\").copy()\n",
    "    print(f\"{more_x_games.shape[0]} players with more than {x} {perf} games\")\n",
    "    more_x_games.hist(bins=100,column=f\"{perf}_relative_error\",color=color)"
   ]
  },
  {
   "cell_type": "code",
   "execution_count": null,
   "id": "f735a0e9-92f7-4cdb-883d-7f805824a088",
   "metadata": {},
   "outputs": [],
   "source": [
    "# Scatter plot, x rating, y time-spent\n",
    "for (perf, color) in zip(perfs, colors):\n",
    "    df.plot.scatter(x=f\"{perf}_avg_rating\",y=f\"{perf}_real_time\",color=color,s=1)"
   ]
  },
  {
   "cell_type": "code",
   "execution_count": null,
   "id": "67dfa5c7-8119-442a-9af6-53f681d0097c",
   "metadata": {},
   "outputs": [],
   "source": [
    "# Weighted histogram. Total time per rating\n",
    "fig, axs = plt.subplots(nrows=len(perfs), figsize=(6.4, 4.8 * len(perfs)))\n",
    "for (perf, color, ax) in zip(perfs, colors, axs):\n",
    "    ax.hist(df[f\"{perf}_avg_rating\"],bins=100,color=color,weights=df[f\"{perf}_real_time\"])\n",
    "    ax.set_title(f\"{perf} rating distribution, weighted by time played\")"
   ]
  },
  {
   "cell_type": "code",
   "execution_count": null,
   "id": "b3fde018-072e-4dfb-ab8f-f6c6e55d6c61",
   "metadata": {},
   "outputs": [],
   "source": []
  }
 ],
 "metadata": {
  "kernelspec": {
   "display_name": "Python 3 (ipykernel)",
   "language": "python",
   "name": "python3"
  },
  "language_info": {
   "codemirror_mode": {
    "name": "ipython",
    "version": 3
   },
   "file_extension": ".py",
   "mimetype": "text/x-python",
   "name": "python",
   "nbconvert_exporter": "python",
   "pygments_lexer": "ipython3",
   "version": "3.11.5"
  }
 },
 "nbformat": 4,
 "nbformat_minor": 5
}
